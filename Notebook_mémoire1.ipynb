{
 "cells": [
  {
   "cell_type": "code",
   "execution_count": 46,
   "id": "947e86cd",
   "metadata": {},
   "outputs": [],
   "source": [
    "#ignorer warnings\n",
    "import warnings\n",
    "warnings.filterwarnings(\"ignore\")"
   ]
  },
  {
   "cell_type": "code",
   "execution_count": 47,
   "id": "6fc7f1e0",
   "metadata": {},
   "outputs": [],
   "source": [
    "import pandas as pd\n",
    "\n",
    "base_path = \"ml-1m/\"\n",
    "\n",
    "ratings = pd.read_csv(\n",
    "    base_path+\"ratings.dat\",\n",
    "    sep=\"::\",\n",
    "    engine=\"python\",\n",
    "    names=[\"UserID\", \"MovieID\", \"Rating\", \"Timestamp\"]\n",
    ")\n",
    "\n",
    "movies = pd.read_csv(\n",
    "    base_path+\"movies.dat\",\n",
    "    sep=\"::\",\n",
    "    engine=\"python\",\n",
    "    names=[\"MovieID\", \"Title\", \"Genres\"],\n",
    "    encoding=\"latin-1\"\n",
    ")\n",
    "\n",
    "users = pd.read_csv(\n",
    "    base_path+\"users.dat\",\n",
    "    sep=\"::\",\n",
    "    engine=\"python\",\n",
    "    names=[\"UserID\", \"Gender\", \"Age\", \"Occupation\", \"Zip-code\"]\n",
    ")"
   ]
  },
  {
   "cell_type": "markdown",
   "id": "de41c4a3",
   "metadata": {},
   "source": [
    "### Statistiques descriptives"
   ]
  },
  {
   "cell_type": "code",
   "execution_count": null,
   "id": "0d6064c6",
   "metadata": {},
   "outputs": [
    {
     "data": {
      "image/png": "[encoded data removed]",
      "text/plain": [
       "<Figure size 1000x600 with 1 Axes>"
      ]
     },
     "metadata": {},
     "output_type": "display_data"
    }
   ],
   "source": [
    "#diagramme en barres ratings\n",
    "import matplotlib.pyplot as plt\n",
    "import seaborn as sns\n",
    "\n",
    "plt.figure(figsize=(10, 6))\n",
    "\n",
    "sns.countplot(data=ratings, x='Rating', palette='viridis')\n",
    "\n",
    "plt.title('Distribution des évaluations')\n",
    "plt.xlabel('Évaluation')\n",
    "plt.ylabel('Nombre d\\'évaluations')\n",
    "plt.show()"
   ]
  },
  {
   "cell_type": "code",
   "execution_count": 72,
   "id": "790300ee",
   "metadata": {},
   "outputs": [
    {
     "name": "stdout",
     "output_type": "stream",
     "text": [
      "Average rating : 3.581564453029317\n"
     ]
    }
   ],
   "source": [
    "#moyenne des évaluations\n",
    "print(\"Average rating :\", ratings.Rating.mean())"
   ]
  },
  {
   "cell_type": "markdown",
   "id": "8dbe9e5d",
   "metadata": {},
   "source": [
    "On voit que les utilisateurs sont généreux sur leurs évaluations. La note la plus attribuée est 4/5, sachant que la note moyenne est 3,53/5 Mais prenons en compte le fait que, pour un même film, un utilisateur peut donner une note différente de celle donnée par un autre. Donc on ne peut pas se fier uniquement sur la notation pour savoir si les deux vont apprécier des films auxquels ils ont attribué une note égale ou même proche (par exemple 3,5 et 4)."
   ]
  },
  {
   "cell_type": "code",
   "execution_count": null,
   "id": "753e6fe6",
   "metadata": {},
   "outputs": [],
   "source": [
    "from wordcloud import WordCloud\n",
    "from nltk.corpus import stopwords\n",
    "from nltk.tokenize import word_tokenize\n",
    "import nltk\n",
    "from collections import Counter\n",
    "#nltk.download('stopwords')\n",
    "#nltk.download('punkt')"
   ]
  },
  {
   "cell_type": "markdown",
   "id": "2f3aff03",
   "metadata": {},
   "source": [
    "## Stats descriptives"
   ]
  },
  {
   "cell_type": "markdown",
   "id": "c4d913ee-33bb-4c8a-9faa-7d2191c0a165",
   "metadata": {},
   "source": [
    "## Décomposition en valeurs singulières (SVD)"
   ]
  },
  {
   "cell_type": "markdown",
   "id": "1b2fb71b-3033-4889-a811-529bc6a3be75",
   "metadata": {},
   "source": [
    "### 2. Avantages et Inconvénients\n",
    "\n",
    "#### Points positifs de l'utilisation du SVD sur MovieLens :\n",
    "1. Réduction de dimensionnalité efficace :\n",
    "   MovieLens contient beaucoup d’utilisateurs et de films. SVD permet de représenter les interactions utilisateur-film dans un espace latent de plus faible dimension, capturant les préférences implicites.\n",
    "\n",
    "2. Très bon modèle de base (baseline) : Il sert souvent de référence pour comparer d’autres approches plus complexes (comme les autoencodeurs ou les modèles deep learning).\n",
    "\n",
    "3. Gère bien la disparité :\n",
    "La matrice de notation (user × movie) est très creuse. SVD aide à reconstruire les valeurs manquantes en trouvant les patterns sous-jacents.\n",
    "\n",
    "4. Implémentations efficaces :\n",
    "Des versions optimisées existent (comme SVD++ dans Surprise, ou des implémentations via scikit-learn ou TensorFlow).\n",
    "\n",
    "#### Limites et points de vigilance :\n",
    "1. Besoin d’une matrice \"pleine\" :\n",
    "L’algorithme SVD classique nécessite une matrice sans valeurs manquantes. Sur Movielens, on utilise souvent des variantes comme SVD imputation ou SVD sur la matrice factorisée via SGD (ex. : dans Surprise).\n",
    "\n",
    "2. Pas adapté aux nouveaux utilisateurs ou films (cold start) :\n",
    "Comme il se base uniquement sur les notations, un nouvel utilisateur (ou un film sans note) ne pourra pas être bien représenté.\n",
    "\n",
    "3. Pas de prise en compte du contenu :\n",
    "SVD ne considère pas les métadonnées (genre, âge, description des films...). Pour intégrer ce genre d'info, on part vers des modèles hybrides."
   ]
  },
  {
   "cell_type": "markdown",
   "id": "b49f042a-2c2d-4ca0-9cb1-7814b11c8808",
   "metadata": {},
   "source": [
    "\n",
    "\n",
    "### 3. Définition mathématique\n",
    "\n",
    "La factorisation de la matrice d'utilité s’appuie sur la décomposition en valeurs singulières (SVD), une technique qui permet d’identifier des structures latentes à partir d’une matrice de notation (utilisateur–item). Cette méthode consiste à décomposer une matrice 𝐴 en trois matrices :\n",
    "\n",
    "Soit une matrice réelle $A \\in \\mathbb{R}^{m \\times n}$, la décomposition en valeurs singulières (SVD) permet d’écrire :\n",
    "\n",
    "$$\n",
    "A = U \\Sigma V^T\n",
    "$$\n",
    "\n",
    "où :\n",
    "- $U \\in \\mathbb{R}^{m \\times m}$ est une matrice orthogonale associée aux utilisateurs et aux facteurs latents,\n",
    "- $V \\in \\mathbb{R}^{n \\times n}$ est une matrice orthogonale contenant les valeurs singulières, qui mesurent l’importance relative de chaque facteur latent,\n",
    "- $\\Sigma \\in \\mathbb{R}^{m \\times n}$ est une matrice diagonale contenant les valeurs singulières $\\sigma_1 \\geq \\sigma_2 \\geq \\cdots \\geq 0$ décrivant la correspondance entre les items et les facteurs latents.\n",
    "\n",
    "Ces facteurs latents peuvent représenter des caractéristiques implicites des items, comme les genres de films. L’objectif de la SVD est donc de réduire la dimension de la matrice initiale tout en conservant les relations les plus significatives entre utilisateurs et items. Chaque utilisateur et chaque élément est alors projeté dans un espace vectoriel de dimension réduite, facilitant ainsi la modélisation des préférences et la prédiction des évaluations manquantes.\n",
    "\n",
    "---"
   ]
  },
  {
   "cell_type": "code",
   "execution_count": 2,
   "id": "2c0e75aa-56ab-467e-aea4-3e6f610519c3",
   "metadata": {},
   "outputs": [],
   "source": [
    "import os\n",
    "\n",
    "import pandas as pd\n",
    "import numpy as np\n",
    "\n",
    "import random\n",
    "\n",
    "# Mesure d'erreur (Erreur moyenne relative)\n",
    "from sklearn.metrics import mean_squared_error\n",
    "\n",
    "# SVD\n",
    "from scipy.sparse.linalg import svds"
   ]
  },
  {
   "cell_type": "code",
   "execution_count": 5,
   "id": "aa4f46e2-4212-4862-9a52-c381084d27a5",
   "metadata": {},
   "outputs": [
    {
     "data": {
      "application/vnd.microsoft.datawrangler.viewer.v0+json": {
       "columns": [
        {
         "name": "index",
         "rawType": "int64",
         "type": "integer"
        },
        {
         "name": "UserID",
         "rawType": "int64",
         "type": "integer"
        },
        {
         "name": "MovieID",
         "rawType": "int64",
         "type": "integer"
        },
        {
         "name": "Rating",
         "rawType": "int64",
         "type": "integer"
        },
        {
         "name": "Timestamp",
         "rawType": "int64",
         "type": "integer"
        }
       ],
       "conversionMethod": "pd.DataFrame",
       "ref": "ca2148aa-ec3b-449f-ac1f-28800a1b2544",
       "rows": [
        [
         "0",
         "1",
         "1193",
         "5",
         "978300760"
        ],
        [
         "1",
         "1",
         "661",
         "3",
         "978302109"
        ],
        [
         "2",
         "1",
         "914",
         "3",
         "978301968"
        ],
        [
         "3",
         "1",
         "3408",
         "4",
         "978300275"
        ],
        [
         "4",
         "1",
         "2355",
         "5",
         "978824291"
        ]
       ],
       "shape": {
        "columns": 4,
        "rows": 5
       }
      },
      "text/html": [
       "<div>\n",
       "<style scoped>\n",
       "    .dataframe tbody tr th:only-of-type {\n",
       "        vertical-align: middle;\n",
       "    }\n",
       "\n",
       "    .dataframe tbody tr th {\n",
       "        vertical-align: top;\n",
       "    }\n",
       "\n",
       "    .dataframe thead th {\n",
       "        text-align: right;\n",
       "    }\n",
       "</style>\n",
       "<table border=\"1\" class=\"dataframe\">\n",
       "  <thead>\n",
       "    <tr style=\"text-align: right;\">\n",
       "      <th></th>\n",
       "      <th>UserID</th>\n",
       "      <th>MovieID</th>\n",
       "      <th>Rating</th>\n",
       "      <th>Timestamp</th>\n",
       "    </tr>\n",
       "  </thead>\n",
       "  <tbody>\n",
       "    <tr>\n",
       "      <th>0</th>\n",
       "      <td>1</td>\n",
       "      <td>1193</td>\n",
       "      <td>5</td>\n",
       "      <td>978300760</td>\n",
       "    </tr>\n",
       "    <tr>\n",
       "      <th>1</th>\n",
       "      <td>1</td>\n",
       "      <td>661</td>\n",
       "      <td>3</td>\n",
       "      <td>978302109</td>\n",
       "    </tr>\n",
       "    <tr>\n",
       "      <th>2</th>\n",
       "      <td>1</td>\n",
       "      <td>914</td>\n",
       "      <td>3</td>\n",
       "      <td>978301968</td>\n",
       "    </tr>\n",
       "    <tr>\n",
       "      <th>3</th>\n",
       "      <td>1</td>\n",
       "      <td>3408</td>\n",
       "      <td>4</td>\n",
       "      <td>978300275</td>\n",
       "    </tr>\n",
       "    <tr>\n",
       "      <th>4</th>\n",
       "      <td>1</td>\n",
       "      <td>2355</td>\n",
       "      <td>5</td>\n",
       "      <td>978824291</td>\n",
       "    </tr>\n",
       "  </tbody>\n",
       "</table>\n",
       "</div>"
      ],
      "text/plain": [
       "   UserID  MovieID  Rating  Timestamp\n",
       "0       1     1193       5  978300760\n",
       "1       1      661       3  978302109\n",
       "2       1      914       3  978301968\n",
       "3       1     3408       4  978300275\n",
       "4       1     2355       5  978824291"
      ]
     },
     "execution_count": 5,
     "metadata": {},
     "output_type": "execute_result"
    }
   ],
   "source": [
    "ratings.head()"
   ]
  },
  {
   "cell_type": "code",
   "execution_count": 4,
   "id": "52042eb8-9228-4c11-943f-f872940e535c",
   "metadata": {},
   "outputs": [
    {
     "data": {
      "application/vnd.microsoft.datawrangler.viewer.v0+json": {
       "columns": [
        {
         "name": "index",
         "rawType": "int64",
         "type": "integer"
        },
        {
         "name": "MovieID",
         "rawType": "int64",
         "type": "integer"
        },
        {
         "name": "Title",
         "rawType": "object",
         "type": "string"
        },
        {
         "name": "Genres",
         "rawType": "object",
         "type": "string"
        }
       ],
       "conversionMethod": "pd.DataFrame",
       "ref": "6c1a1aca-489f-4061-8c2e-34034f1ea682",
       "rows": [
        [
         "0",
         "1",
         "Toy Story (1995)",
         "Animation|Children's|Comedy"
        ],
        [
         "1",
         "2",
         "Jumanji (1995)",
         "Adventure|Children's|Fantasy"
        ],
        [
         "2",
         "3",
         "Grumpier Old Men (1995)",
         "Comedy|Romance"
        ],
        [
         "3",
         "4",
         "Waiting to Exhale (1995)",
         "Comedy|Drama"
        ],
        [
         "4",
         "5",
         "Father of the Bride Part II (1995)",
         "Comedy"
        ]
       ],
       "shape": {
        "columns": 3,
        "rows": 5
       }
      },
      "text/html": [
       "<div>\n",
       "<style scoped>\n",
       "    .dataframe tbody tr th:only-of-type {\n",
       "        vertical-align: middle;\n",
       "    }\n",
       "\n",
       "    .dataframe tbody tr th {\n",
       "        vertical-align: top;\n",
       "    }\n",
       "\n",
       "    .dataframe thead th {\n",
       "        text-align: right;\n",
       "    }\n",
       "</style>\n",
       "<table border=\"1\" class=\"dataframe\">\n",
       "  <thead>\n",
       "    <tr style=\"text-align: right;\">\n",
       "      <th></th>\n",
       "      <th>MovieID</th>\n",
       "      <th>Title</th>\n",
       "      <th>Genres</th>\n",
       "    </tr>\n",
       "  </thead>\n",
       "  <tbody>\n",
       "    <tr>\n",
       "      <th>0</th>\n",
       "      <td>1</td>\n",
       "      <td>Toy Story (1995)</td>\n",
       "      <td>Animation|Children's|Comedy</td>\n",
       "    </tr>\n",
       "    <tr>\n",
       "      <th>1</th>\n",
       "      <td>2</td>\n",
       "      <td>Jumanji (1995)</td>\n",
       "      <td>Adventure|Children's|Fantasy</td>\n",
       "    </tr>\n",
       "    <tr>\n",
       "      <th>2</th>\n",
       "      <td>3</td>\n",
       "      <td>Grumpier Old Men (1995)</td>\n",
       "      <td>Comedy|Romance</td>\n",
       "    </tr>\n",
       "    <tr>\n",
       "      <th>3</th>\n",
       "      <td>4</td>\n",
       "      <td>Waiting to Exhale (1995)</td>\n",
       "      <td>Comedy|Drama</td>\n",
       "    </tr>\n",
       "    <tr>\n",
       "      <th>4</th>\n",
       "      <td>5</td>\n",
       "      <td>Father of the Bride Part II (1995)</td>\n",
       "      <td>Comedy</td>\n",
       "    </tr>\n",
       "  </tbody>\n",
       "</table>\n",
       "</div>"
      ],
      "text/plain": [
       "   MovieID                               Title                        Genres\n",
       "0        1                    Toy Story (1995)   Animation|Children's|Comedy\n",
       "1        2                      Jumanji (1995)  Adventure|Children's|Fantasy\n",
       "2        3             Grumpier Old Men (1995)                Comedy|Romance\n",
       "3        4            Waiting to Exhale (1995)                  Comedy|Drama\n",
       "4        5  Father of the Bride Part II (1995)                        Comedy"
      ]
     },
     "execution_count": 4,
     "metadata": {},
     "output_type": "execute_result"
    }
   ],
   "source": [
    "movies.head()"
   ]
  },
  {
   "cell_type": "code",
   "execution_count": 6,
   "id": "5df82f2f-336b-4403-8a3e-ef365095c665",
   "metadata": {},
   "outputs": [
    {
     "data": {
      "application/vnd.microsoft.datawrangler.viewer.v0+json": {
       "columns": [
        {
         "name": "index",
         "rawType": "int64",
         "type": "integer"
        },
        {
         "name": "UserID",
         "rawType": "int64",
         "type": "integer"
        },
        {
         "name": "Gender",
         "rawType": "object",
         "type": "string"
        },
        {
         "name": "Age",
         "rawType": "int64",
         "type": "integer"
        },
        {
         "name": "Occupation",
         "rawType": "int64",
         "type": "integer"
        },
        {
         "name": "Zip-code",
         "rawType": "object",
         "type": "string"
        }
       ],
       "conversionMethod": "pd.DataFrame",
       "ref": "e06373fc-d6c1-46ec-9345-e5b428438c0b",
       "rows": [
        [
         "0",
         "1",
         "F",
         "1",
         "10",
         "48067"
        ],
        [
         "1",
         "2",
         "M",
         "56",
         "16",
         "70072"
        ],
        [
         "2",
         "3",
         "M",
         "25",
         "15",
         "55117"
        ],
        [
         "3",
         "4",
         "M",
         "45",
         "7",
         "02460"
        ],
        [
         "4",
         "5",
         "M",
         "25",
         "20",
         "55455"
        ]
       ],
       "shape": {
        "columns": 5,
        "rows": 5
       }
      },
      "text/html": [
       "<div>\n",
       "<style scoped>\n",
       "    .dataframe tbody tr th:only-of-type {\n",
       "        vertical-align: middle;\n",
       "    }\n",
       "\n",
       "    .dataframe tbody tr th {\n",
       "        vertical-align: top;\n",
       "    }\n",
       "\n",
       "    .dataframe thead th {\n",
       "        text-align: right;\n",
       "    }\n",
       "</style>\n",
       "<table border=\"1\" class=\"dataframe\">\n",
       "  <thead>\n",
       "    <tr style=\"text-align: right;\">\n",
       "      <th></th>\n",
       "      <th>UserID</th>\n",
       "      <th>Gender</th>\n",
       "      <th>Age</th>\n",
       "      <th>Occupation</th>\n",
       "      <th>Zip-code</th>\n",
       "    </tr>\n",
       "  </thead>\n",
       "  <tbody>\n",
       "    <tr>\n",
       "      <th>0</th>\n",
       "      <td>1</td>\n",
       "      <td>F</td>\n",
       "      <td>1</td>\n",
       "      <td>10</td>\n",
       "      <td>48067</td>\n",
       "    </tr>\n",
       "    <tr>\n",
       "      <th>1</th>\n",
       "      <td>2</td>\n",
       "      <td>M</td>\n",
       "      <td>56</td>\n",
       "      <td>16</td>\n",
       "      <td>70072</td>\n",
       "    </tr>\n",
       "    <tr>\n",
       "      <th>2</th>\n",
       "      <td>3</td>\n",
       "      <td>M</td>\n",
       "      <td>25</td>\n",
       "      <td>15</td>\n",
       "      <td>55117</td>\n",
       "    </tr>\n",
       "    <tr>\n",
       "      <th>3</th>\n",
       "      <td>4</td>\n",
       "      <td>M</td>\n",
       "      <td>45</td>\n",
       "      <td>7</td>\n",
       "      <td>02460</td>\n",
       "    </tr>\n",
       "    <tr>\n",
       "      <th>4</th>\n",
       "      <td>5</td>\n",
       "      <td>M</td>\n",
       "      <td>25</td>\n",
       "      <td>20</td>\n",
       "      <td>55455</td>\n",
       "    </tr>\n",
       "  </tbody>\n",
       "</table>\n",
       "</div>"
      ],
      "text/plain": [
       "   UserID Gender  Age  Occupation Zip-code\n",
       "0       1      F    1          10    48067\n",
       "1       2      M   56          16    70072\n",
       "2       3      M   25          15    55117\n",
       "3       4      M   45           7    02460\n",
       "4       5      M   25          20    55455"
      ]
     },
     "execution_count": 6,
     "metadata": {},
     "output_type": "execute_result"
    }
   ],
   "source": [
    "users.head()"
   ]
  },
  {
   "cell_type": "code",
   "execution_count": 7,
   "id": "85fd7f99-1002-4297-91f4-ddcfd12f3068",
   "metadata": {},
   "outputs": [
    {
     "name": "stdout",
     "output_type": "stream",
     "text": [
      "#users: 6040\n",
      "#movies: 3706\n",
      "#ratings %: 4.468362562231285\n",
      "1,000,209 ratings of 3,706 films rated by 6,040 users.\n",
      "Nous disposons de 6,040 utilisateurs et de 3,706 films, pour un total de 1,000,209 notes. La matrice utilisateur × film est très creuse, avec seulement 4.47 % des couples utilisateur × film renseignés.\n"
     ]
    }
   ],
   "source": [
    "movie_count = ratings[\"MovieID\"].nunique()\n",
    "user_count = ratings['UserID'].nunique()\n",
    "rating_count = ratings.shape[0]\n",
    "\n",
    "# Taux de remplissage\n",
    "rating_pct = rating_count / (user_count * movie_count) * 100\n",
    "\n",
    "print(\"#users: \"+ str(user_count))\n",
    "print(\"#movies: \"+ str(movie_count))\n",
    "print(\"#ratings %: \"+ str(rating_count / (user_count * movie_count) * 100))\n",
    "\n",
    "print('{:,} ratings of {:,} films rated by {:,} users.'.format(rating_count, movie_count, user_count))\n",
    "\n",
    "phrase = (\n",
    "    f\"Nous disposons de {user_count:,} utilisateurs et de {movie_count:,} films, \"\n",
    "    f\"pour un total de {rating_count:,} notes. \"\n",
    "    f\"La matrice utilisateur × film est très creuse, avec seulement {rating_pct:.2f} % \"\n",
    "    f\"des couples utilisateur × film renseignés.\"\n",
    ")\n",
    "\n",
    "print(phrase)\n",
    "\n",
    "# Distribution des notes\n",
    "p = ratings.groupby('Rating')['Rating'].agg(['count'])"
   ]
  },
  {
   "cell_type": "markdown",
   "id": "ba469612-1c96-43bd-aaaf-60a0797e19d6",
   "metadata": {},
   "source": [
    "###### !pip install seaborn\n"
   ]
  },
  {
   "cell_type": "markdown",
   "id": "ecda9bfd-2aaf-41f4-a509-e7420514cfac",
   "metadata": {},
   "source": [
    "**On va utiliser le package Surprise**\n",
    "- documentation : https://surprise.readthedocs.io/en/stable/getting_started.html\n",
    "\n",
    "Pour utiliser ce package on va devoir transformer le Dataframe en un objet Dataset"
   ]
  },
  {
   "cell_type": "code",
   "execution_count": 16,
   "id": "4b82a6a4",
   "metadata": {},
   "outputs": [
    {
     "data": {
      "text/plain": [
       "array([5, 3, 4, 2, 1], dtype=int64)"
      ]
     },
     "execution_count": 16,
     "metadata": {},
     "output_type": "execute_result"
    }
   ],
   "source": [
    "ratings.Rating.unique()"
   ]
  },
  {
   "cell_type": "markdown",
   "id": "8cf15295-85d5-4b61-b6e5-47b18f4762d8",
   "metadata": {},
   "source": [
    "On crée un dataset `Surprise` à partir d’un DataFrame Pandas (`ratings` ici), en gardant uniquement les 3 colonnes attendues\n",
    "\n",
    "On définit l’objet reader en précisant que les notes vont de 1 à 5. Cela permet à Surprise de comprendre l’échelle des ratings"
   ]
  },
  {
   "cell_type": "code",
   "execution_count": 8,
   "id": "0386a222-1286-41df-8755-ec422f4f0736",
   "metadata": {},
   "outputs": [],
   "source": [
    "from surprise import SVD, Dataset, Reader\n",
    "\n",
    "reader = Reader(rating_scale=(1, 5))\n",
    "\n",
    "data = Dataset.load_from_df(ratings[[\"UserID\", \"MovieID\", \"Rating\"]], reader)"
   ]
  },
  {
   "cell_type": "code",
   "execution_count": null,
   "id": "1c95fb4a-8941-41ec-93e9-577ded9d277c",
   "metadata": {},
   "outputs": [],
   "source": [
    "# Train set - Test set (75%-25%)\n",
    "from surprise.model_selection import train_test_split\n",
    "train_set, test_set = train_test_split(data, test_size=0.25, random_state=42) # test set is made of 25% of the ratings."
   ]
  },
  {
   "cell_type": "markdown",
   "id": "026cafe9-1100-449d-888c-2794569bf20c",
   "metadata": {},
   "source": [
    "**_Step 1 : Choosing a model_**\n",
    "\n",
    "_Modèle simple (SVD par défaut)_\n",
    "\n",
    "On va commencé par entraîner directement le modèle SVD sur l'ensemble d'entraînement et évaluer sa performance sur l'ensemble de test. Ce processus utilise les hyperparamètres par défaut du modèle SVD sans optimisation"
   ]
  },
  {
   "cell_type": "code",
   "execution_count": null,
   "id": "37d3416c-823f-4aef-89a6-17dc24a2d45d",
   "metadata": {},
   "outputs": [
    {
     "name": "stdout",
     "output_type": "stream",
     "text": [
      "RMSE: 0.6698\n",
      "RMSE: 0.8775\n",
      "\n",
      "[SVD Simple]\n",
      "Train RMSE : 0.6698\n",
      "Test  RMSE : 0.8775\n"
     ]
    }
   ],
   "source": [
    "# Modèle simple (SVD par défaut)\n",
    "from surprise import Dataset, SVD\n",
    "algo_simple = SVD()\n",
    "algo_simple.fit(train_set)\n",
    "\n",
    "# Prédiction sur train\n",
    "train_preds_simple = algo_simple.test(train_set.build_testset())\n",
    "\n",
    "from surprise import accuracy\n",
    "train_rmse_simple = accuracy.rmse(train_preds_simple, verbose=True)\n",
    "\n",
    "# Prédiction sur test\n",
    "test_preds_simple = algo_simple.test(test_set)\n",
    "test_rmse_simple = accuracy.rmse(test_preds_simple, verbose=True)\n",
    "\n",
    "print(\"\\n[SVD Simple]\")\n",
    "print(f\"Train RMSE : {train_rmse_simple:.4f}\")\n",
    "print(f\"Test  RMSE : {test_rmse_simple:.4f}\")"
   ]
  },
  {
   "cell_type": "markdown",
   "id": "31a2fc20-16af-4535-9e4f-878350172851",
   "metadata": {},
   "source": [
    "#### SVD optimisé\n",
    "**GridSearchCV avec Validation Croisée**\n",
    "\n",
    "Le premier code utilise GridSearchCV, qui teste différentes combinaisons d'hyperparamètres pour optimiser le modèle SVD à l'aide de la validation croisée. Cela signifie que le modèle est testé plusieurs fois sur des sous-ensembles des données et que la performance moyenne est calculée. La validation croisée permet de réduire le risque de surapprentissage (overfitting) et de donner une estimation plus robuste des performances du modèle. "
   ]
  },
  {
   "cell_type": "code",
   "execution_count": null,
   "id": "c55a44ca-3ad4-4eb3-8cf8-8a46c74859a1",
   "metadata": {},
   "outputs": [
    {
     "name": "stdout",
     "output_type": "stream",
     "text": [
      "RMSE: 0.9202\n",
      "RMSE: 0.9288\n",
      "\n",
      "[SVD Optimisé avec GridSearchCV]\n",
      "Train RMSE : 0.9202\n",
      "Test  RMSE : 0.9288\n"
     ]
    }
   ],
   "source": [
    "# Modèle optimisé avec GridSearchCV\n",
    "param_grid = {\n",
    "    \"n_epochs\": [5, 10],\n",
    "    \"lr_all\": [0.002, 0.005],\n",
    "    \"reg_all\": [0.4, 0.6]\n",
    "}\n",
    "\n",
    "from surprise.model_selection import GridSearchCV\n",
    "gs = GridSearchCV(SVD, param_grid, measures=[\"rmse\"], cv=3)\n",
    "gs.fit(data)\n",
    "\n",
    "best_params = gs.best_params['rmse']\n",
    "algo_grid = SVD(**best_params)\n",
    "algo_grid.fit(train_set)\n",
    "\n",
    "# Prédiction sur train\n",
    "train_preds_grid = algo_grid.test(train_set.build_testset())\n",
    "train_rmse_grid = accuracy.rmse(train_preds_grid, verbose=True)\n",
    "\n",
    "# Prédiction sur test\n",
    "test_preds_grid = algo_grid.test(test_set)\n",
    "test_rmse_grid = accuracy.rmse(test_preds_grid, verbose=True)\n",
    "\n",
    "print(\"\\n[SVD Optimisé avec GridSearchCV]\")\n",
    "print(f\"Train RMSE : {train_rmse_grid:.4f}\")\n",
    "print(f\"Test  RMSE : {test_rmse_grid:.4f}\")"
   ]
  },
  {
   "cell_type": "markdown",
   "id": "1b85b9d2",
   "metadata": {},
   "source": [
    "#### **Comparaison graphique des SVD**"
   ]
  },
  {
   "cell_type": "code",
   "execution_count": 76,
   "id": "a4d6177d-99fe-40c0-b1a5-591612ac76f9",
   "metadata": {},
   "outputs": [
    {
     "data": {
      "image/png": "[encoded data removed]",
      "text/plain": [
       "<Figure size 1000x600 with 1 Axes>"
      ]
     },
     "metadata": {},
     "output_type": "display_data"
    }
   ],
   "source": [
    "# Préparation des données\n",
    "rmse_grid = [train_rmse_grid, test_rmse_grid]\n",
    "rmse_simple = [train_rmse_simple, test_rmse_simple]\n",
    "\n",
    "labels = ['Train', 'Test']\n",
    "x = [0, 1]  # positions pour le SVD optimisé\n",
    "x2 = [i + 2.5 for i in x]  # positions pour le SVD simple\n",
    "\n",
    "bar_width = 0.8\n",
    "\n",
    "# Création du graphique\n",
    "plt.figure(figsize=(10, 6))\n",
    "sns.set_palette(\"viridis\")\n",
    "# Barres pour SVD optimisé\n",
    "plt.bar(x, rmse_grid, width=bar_width, label='Optimised SVD')\n",
    "\n",
    "# Barres pour SVD simple\n",
    "plt.bar(x2, rmse_simple, width=bar_width, label='Basic SVD')\n",
    "\n",
    "# Légendes personnalisées pour les groupes\n",
    "plt.xticks(ticks=x + x2, labels=['Train', 'Test', 'Train', 'Test'])\n",
    "\n",
    "# Titres et axes\n",
    "plt.ylabel('RMSE')\n",
    "plt.legend()\n",
    "plt.grid(axis='y', linestyle='--', alpha=0.5)\n",
    "\n",
    "plt.tight_layout()\n",
    "plt.savefig(\"pdf/rmse_comparison.pdf\", format=\"pdf\")\n",
    "plt.show()"
   ]
  },
  {
   "cell_type": "markdown",
   "id": "4d0d20ae-4f08-45ce-be92-fb8dd9cf9687",
   "metadata": {},
   "source": [
    "Le modèle SVD simple, avec un RMSE de 0,66 en train mais 0,87 en test, montre un surapprentissage : il apprend très bien les données d’entraînement, mais perd en capacité de généralisation. À l’inverse, le modèle SVD optimisé via GridSearchCV affiche un RMSE identique de 0,92 en train et en test, ce qui témoigne d’une meilleure stabilité et d’une meilleure généralisation, même si la performance brute est légèrement inférieure.\n",
    "\n",
    "Nous garderons donc le modèle optimisé par GridSearch car même si moins performant il évite le surapprentissage et permet donc de mieux généraliser. Ce qui est idéal pour faire de la recommendation sur de nouveaux utilisateurs"
   ]
  },
  {
   "cell_type": "markdown",
   "id": "a4c63ec1-1339-428e-982b-d900ec419fda",
   "metadata": {},
   "source": [
    "**Etape 2 : Entrainement du modèle**"
   ]
  },
  {
   "cell_type": "code",
   "execution_count": 56,
   "id": "78d49223-049e-43c7-a99c-97d4d8cc76b3",
   "metadata": {},
   "outputs": [
    {
     "data": {
      "text/plain": [
       "<surprise.prediction_algorithms.matrix_factorization.SVD at 0x3a1868ec0>"
      ]
     },
     "execution_count": 56,
     "metadata": {},
     "output_type": "execute_result"
    }
   ],
   "source": [
    "# Récupérer les meilleurs paramètres\n",
    "best_params = gs.best_params['rmse']\n",
    "\n",
    "# Créer un modèle SVD avec ces paramètres\n",
    "algo = SVD(**best_params)\n",
    "\n",
    "# Entraîner le modèle\n",
    "algo.fit(trainset)"
   ]
  },
  {
   "cell_type": "markdown",
   "id": "1d6c7962-e42c-4b6a-be01-db2da7f811de",
   "metadata": {},
   "source": [
    "**Etape 3. Affichage des films recommandés pour chaque utilisateur**\n",
    "\n",
    "La fonction get_top_n génère les meilleures recommandations personnalisées pour chaque utilisateur à partir des prédictions faites par notre modèle SVD. Elle prend en entrée une liste de prédictions sous forme de tuples (uid, iid, true_r, est, _) où :\n",
    "\n",
    "- uid est l'identifiant de l'utilisateur,\n",
    "\n",
    "- iid est l'identifiant de l'item (film),\n",
    "\n",
    "- true_r est la note réelle (non utilisée ici),\n",
    "\n",
    "- est est la note estimée par le modèle,\n",
    "\n",
    "- _ est une valeur non utilisée dans cette fonction.\n",
    "\n",
    "Pour chaque utilisateur (uid), la fonction trie les films en fonction de la note estimée (est) et garde les n meilleurs films. Le résultat est un dictionnaire top_n où chaque clé est l'identifiant d'un utilisateur (uid), et la valeur est une liste de tuples (iid, est) contenant l'identifiant des films et leur note estimée, triée par ordre décroissant de la note. Cela permet de fournir les n meilleurs films recommandés pour chaque utilisateur."
   ]
  },
  {
   "cell_type": "code",
   "execution_count": null,
   "id": "4b1a8b27-a87d-4363-b29c-dbf28be94874",
   "metadata": {},
   "outputs": [],
   "source": [
    "def get_top_n(predictions, n=10):\n",
    "    '''Pour chaque utilisateur (uid), la fonction trie les films en fonction de la note estimée (est) et garde\n",
    "        les n meilleurs films. Le résultat est un dictionnaire top_n où chaque clé\n",
    "        est l'identifiant d'un utilisateur (uid), et la valeur est une liste de tuples (iid, est) contenant\n",
    "        l'identifiant des films et leur note estimée, triée par ordre décroissant de la note.\n",
    "        Cela permet de fournir les n meilleurs films recommandés pour chaque utilisateur.'''\n",
    "    # First map the predictions to each user.\n",
    "    top_n = defaultdict(list)\n",
    "    for uid, iid, true_r, est, _ in predictions:\n",
    "        top_n[uid].append((iid, est))\n",
    "\n",
    "    # Then sort the predictions for each user and retrieve the n highest ones.\n",
    "    for uid, user_ratings in top_n.items():\n",
    "        user_ratings.sort(key=lambda x: x[1], reverse=True)\n",
    "        top_n[uid] = user_ratings[:n]\n",
    "    \n",
    "    return top_n"
   ]
  },
  {
   "cell_type": "code",
   "execution_count": null,
   "id": "dc256b5d-9960-4ed3-82be-a606b96a381c",
   "metadata": {},
   "outputs": [
    {
     "name": "stdout",
     "output_type": "stream",
     "text": [
      "RMSE: 0.9288\n",
      "MSE: 0.8627\n"
     ]
    },
    {
     "data": {
      "text/plain": [
       "0.8627150825494273"
      ]
     },
     "execution_count": 70,
     "metadata": {},
     "output_type": "execute_result"
    }
   ],
   "source": [
    "# Predict ratings for the testset                                                                           \n",
    "predictions = algo.test(testset)\n",
    "\n",
    "# RMSE\n",
    "from surprise import accuracy\n",
    "accuracy.rmse(predictions)\n",
    "accuracy.mse(predictions)"
   ]
  },
  {
   "cell_type": "code",
   "execution_count": 68,
   "id": "c7c50285",
   "metadata": {},
   "outputs": [
    {
     "ename": "SyntaxError",
     "evalue": "invalid syntax (2609711125.py, line 2)",
     "output_type": "error",
     "traceback": [
      "\u001b[0;36m  Cell \u001b[0;32mIn[68], line 2\u001b[0;36m\u001b[0m\n\u001b[0;31m    top_n.head[,:5]\u001b[0m\n\u001b[0m               ^\u001b[0m\n\u001b[0;31mSyntaxError\u001b[0m\u001b[0;31m:\u001b[0m invalid syntax\n"
     ]
    }
   ],
   "source": [
    "top_n = get_top_n(predictions, n=10)\n",
    "top_n.head[,:5]"
   ]
  },
  {
   "cell_type": "code",
   "execution_count": null,
   "id": "46dd03a1-293e-48af-a44f-072adcee56c2",
   "metadata": {},
   "outputs": [
    {
     "data": {
      "application/vnd.microsoft.datawrangler.viewer.v0+json": {
       "columns": [
        {
         "name": "index",
         "rawType": "int64",
         "type": "integer"
        },
        {
         "name": "UserID",
         "rawType": "int64",
         "type": "integer"
        },
        {
         "name": "Movie 1",
         "rawType": "object",
         "type": "string"
        },
        {
         "name": "Movie 2",
         "rawType": "object",
         "type": "string"
        },
        {
         "name": "Movie 3",
         "rawType": "object",
         "type": "string"
        },
        {
         "name": "Movie 4",
         "rawType": "object",
         "type": "string"
        },
        {
         "name": "Movie 5",
         "rawType": "object",
         "type": "string"
        },
        {
         "name": "Movie 6",
         "rawType": "object",
         "type": "string"
        },
        {
         "name": "Movie 7",
         "rawType": "object",
         "type": "string"
        },
        {
         "name": "Movie 8",
         "rawType": "object",
         "type": "string"
        },
        {
         "name": "Movie 9",
         "rawType": "object",
         "type": "string"
        },
        {
         "name": "Movie 10",
         "rawType": "object",
         "type": "string"
        }
       ],
       "conversionMethod": "pd.DataFrame",
       "ref": "665fa818-0e4c-4ef5-b092-e3f1c9447814",
       "rows": [
        [
         "0",
         "1263",
         "Grand Day Out, A (1992)",
         "Life Is Beautiful (La Vita è bella) (1997)",
         "Sting, The (1973)",
         "Young Frankenstein (1974)",
         "Gladiator (2000)",
         "Apocalypse Now (1979)",
         "Pulp Fiction (1994)",
         "Butch Cassidy and the Sundance Kid (1969)",
         "Raging Bull (1980)",
         "This Is Spinal Tap (1984)"
        ],
        [
         "1",
         "975",
         "Sixth Sense, The (1999)",
         "Silence of the Lambs, The (1991)",
         "Princess Bride, The (1987)",
         "Three Colors: Red (1994)",
         "Blade Runner (1982)",
         "Boat, The (Das Boot) (1981)",
         "Godfather: Part II, The (1974)",
         "Apocalypse Now (1979)",
         "Pulp Fiction (1994)",
         "Cool Hand Luke (1967)"
        ],
        [
         "2",
         "3929",
         "Sixth Sense, The (1999)",
         "Saving Private Ryan (1998)",
         "American History X (1998)",
         "Matrix, The (1999)",
         "Boat, The (Das Boot) (1981)",
         "Amadeus (1984)",
         "Fargo (1996)",
         "Star Wars: Episode V - The Empire Strikes Back (1980)",
         "Run Lola Run (Lola rennt) (1998)",
         "GoodFellas (1990)"
        ],
        [
         "3",
         "1839",
         "Usual Suspects, The (1995)",
         "Boat, The (Das Boot) (1981)",
         "Almost Famous (2000)",
         "Fugitive, The (1993)",
         "Braveheart (1995)",
         "Apollo 13 (1995)",
         "Airplane! (1980)",
         "Star Wars: Episode VI - Return of the Jedi (1983)",
         "Lion King, The (1994)",
         "Enemy of the State (1998)"
        ],
        [
         "4",
         "1499",
         "Saving Private Ryan (1998)",
         "Fargo (1996)",
         "Terminator 2: Judgment Day (1991)",
         "Hamlet (1996)",
         "Twelve Monkeys (1995)",
         "Contender, The (2000)",
         "Groundhog Day (1993)",
         "Meet the Parents (2000)",
         "Titus (1999)",
         "Gattaca (1997)"
        ],
        [
         "5",
         "3033",
         "Godfather, The (1972)",
         "Saving Private Ryan (1998)",
         "Star Wars: Episode IV - A New Hope (1977)",
         "Princess Bride, The (1987)",
         "Blade Runner (1982)",
         "Matrix, The (1999)",
         "Star Wars: Episode V - The Empire Strikes Back (1980)",
         "Ferris Bueller's Day Off (1986)",
         "Die Hard (1988)",
         "Last Emperor, The (1987)"
        ],
        [
         "6",
         "2187",
         "Shawshank Redemption, The (1994)",
         "Usual Suspects, The (1995)",
         "Sixth Sense, The (1999)",
         "Saving Private Ryan (1998)",
         "Fugitive, The (1993)",
         "Star Wars: Episode V - The Empire Strikes Back (1980)",
         "GoodFellas (1990)",
         "Braveheart (1995)",
         "Reservoir Dogs (1992)",
         "Brazil (1985)"
        ],
        [
         "7",
         "1418",
         "Saving Private Ryan (1998)",
         "Raiders of the Lost Ark (1981)",
         "Star Wars: Episode IV - A New Hope (1977)",
         "Princess Bride, The (1987)",
         "Matrix, The (1999)",
         "Toy Story 2 (1999)",
         "Braveheart (1995)",
         "Alien (1979)",
         "Close Encounters of the Third Kind (1977)",
         "Star Wars: Episode VI - Return of the Jedi (1983)"
        ],
        [
         "8",
         "3000",
         "American Beauty (1999)",
         "Chinatown (1974)",
         "Wizard of Oz, The (1939)",
         "Matrix, The (1999)",
         "Manchurian Candidate, The (1962)",
         "Terminator 2: Judgment Day (1991)",
         "Clockwork Orange, A (1971)",
         "Aliens (1986)",
         "Willy Wonka and the Chocolate Factory (1971)",
         "Caddyshack (1980)"
        ],
        [
         "9",
         "5001",
         "Yojimbo (1961)",
         "General, The (1927)",
         "Star Wars: Episode IV - A New Hope (1977)",
         "Rebecca (1940)",
         "Wizard of Oz, The (1939)",
         "Matrix, The (1999)",
         "All About My Mother (Todo Sobre Mi Madre) (1999)",
         "Witness (1985)",
         "Forrest Gump (1994)",
         "Gay Divorcee, The (1934)"
        ]
       ],
       "shape": {
        "columns": 11,
        "rows": 10
       }
      },
      "text/html": [
       "<div>\n",
       "<style scoped>\n",
       "    .dataframe tbody tr th:only-of-type {\n",
       "        vertical-align: middle;\n",
       "    }\n",
       "\n",
       "    .dataframe tbody tr th {\n",
       "        vertical-align: top;\n",
       "    }\n",
       "\n",
       "    .dataframe thead th {\n",
       "        text-align: right;\n",
       "    }\n",
       "</style>\n",
       "<table border=\"1\" class=\"dataframe\">\n",
       "  <thead>\n",
       "    <tr style=\"text-align: right;\">\n",
       "      <th></th>\n",
       "      <th>UserID</th>\n",
       "      <th>Movie 1</th>\n",
       "      <th>Movie 2</th>\n",
       "      <th>Movie 3</th>\n",
       "      <th>Movie 4</th>\n",
       "      <th>Movie 5</th>\n",
       "      <th>Movie 6</th>\n",
       "      <th>Movie 7</th>\n",
       "      <th>Movie 8</th>\n",
       "      <th>Movie 9</th>\n",
       "      <th>Movie 10</th>\n",
       "    </tr>\n",
       "  </thead>\n",
       "  <tbody>\n",
       "    <tr>\n",
       "      <th>0</th>\n",
       "      <td>1263</td>\n",
       "      <td>Grand Day Out, A (1992)</td>\n",
       "      <td>Life Is Beautiful (La Vita è bella) (1997)</td>\n",
       "      <td>Sting, The (1973)</td>\n",
       "      <td>Young Frankenstein (1974)</td>\n",
       "      <td>Gladiator (2000)</td>\n",
       "      <td>Apocalypse Now (1979)</td>\n",
       "      <td>Pulp Fiction (1994)</td>\n",
       "      <td>Butch Cassidy and the Sundance Kid (1969)</td>\n",
       "      <td>Raging Bull (1980)</td>\n",
       "      <td>This Is Spinal Tap (1984)</td>\n",
       "    </tr>\n",
       "    <tr>\n",
       "      <th>1</th>\n",
       "      <td>975</td>\n",
       "      <td>Sixth Sense, The (1999)</td>\n",
       "      <td>Silence of the Lambs, The (1991)</td>\n",
       "      <td>Princess Bride, The (1987)</td>\n",
       "      <td>Three Colors: Red (1994)</td>\n",
       "      <td>Blade Runner (1982)</td>\n",
       "      <td>Boat, The (Das Boot) (1981)</td>\n",
       "      <td>Godfather: Part II, The (1974)</td>\n",
       "      <td>Apocalypse Now (1979)</td>\n",
       "      <td>Pulp Fiction (1994)</td>\n",
       "      <td>Cool Hand Luke (1967)</td>\n",
       "    </tr>\n",
       "    <tr>\n",
       "      <th>2</th>\n",
       "      <td>3929</td>\n",
       "      <td>Sixth Sense, The (1999)</td>\n",
       "      <td>Saving Private Ryan (1998)</td>\n",
       "      <td>American History X (1998)</td>\n",
       "      <td>Matrix, The (1999)</td>\n",
       "      <td>Boat, The (Das Boot) (1981)</td>\n",
       "      <td>Amadeus (1984)</td>\n",
       "      <td>Fargo (1996)</td>\n",
       "      <td>Star Wars: Episode V - The Empire Strikes Back...</td>\n",
       "      <td>Run Lola Run (Lola rennt) (1998)</td>\n",
       "      <td>GoodFellas (1990)</td>\n",
       "    </tr>\n",
       "    <tr>\n",
       "      <th>3</th>\n",
       "      <td>1839</td>\n",
       "      <td>Usual Suspects, The (1995)</td>\n",
       "      <td>Boat, The (Das Boot) (1981)</td>\n",
       "      <td>Almost Famous (2000)</td>\n",
       "      <td>Fugitive, The (1993)</td>\n",
       "      <td>Braveheart (1995)</td>\n",
       "      <td>Apollo 13 (1995)</td>\n",
       "      <td>Airplane! (1980)</td>\n",
       "      <td>Star Wars: Episode VI - Return of the Jedi (1983)</td>\n",
       "      <td>Lion King, The (1994)</td>\n",
       "      <td>Enemy of the State (1998)</td>\n",
       "    </tr>\n",
       "    <tr>\n",
       "      <th>4</th>\n",
       "      <td>1499</td>\n",
       "      <td>Saving Private Ryan (1998)</td>\n",
       "      <td>Fargo (1996)</td>\n",
       "      <td>Terminator 2: Judgment Day (1991)</td>\n",
       "      <td>Hamlet (1996)</td>\n",
       "      <td>Twelve Monkeys (1995)</td>\n",
       "      <td>Contender, The (2000)</td>\n",
       "      <td>Groundhog Day (1993)</td>\n",
       "      <td>Meet the Parents (2000)</td>\n",
       "      <td>Titus (1999)</td>\n",
       "      <td>Gattaca (1997)</td>\n",
       "    </tr>\n",
       "    <tr>\n",
       "      <th>5</th>\n",
       "      <td>3033</td>\n",
       "      <td>Godfather, The (1972)</td>\n",
       "      <td>Saving Private Ryan (1998)</td>\n",
       "      <td>Star Wars: Episode IV - A New Hope (1977)</td>\n",
       "      <td>Princess Bride, The (1987)</td>\n",
       "      <td>Blade Runner (1982)</td>\n",
       "      <td>Matrix, The (1999)</td>\n",
       "      <td>Star Wars: Episode V - The Empire Strikes Back...</td>\n",
       "      <td>Ferris Bueller's Day Off (1986)</td>\n",
       "      <td>Die Hard (1988)</td>\n",
       "      <td>Last Emperor, The (1987)</td>\n",
       "    </tr>\n",
       "    <tr>\n",
       "      <th>6</th>\n",
       "      <td>2187</td>\n",
       "      <td>Shawshank Redemption, The (1994)</td>\n",
       "      <td>Usual Suspects, The (1995)</td>\n",
       "      <td>Sixth Sense, The (1999)</td>\n",
       "      <td>Saving Private Ryan (1998)</td>\n",
       "      <td>Fugitive, The (1993)</td>\n",
       "      <td>Star Wars: Episode V - The Empire Strikes Back...</td>\n",
       "      <td>GoodFellas (1990)</td>\n",
       "      <td>Braveheart (1995)</td>\n",
       "      <td>Reservoir Dogs (1992)</td>\n",
       "      <td>Brazil (1985)</td>\n",
       "    </tr>\n",
       "    <tr>\n",
       "      <th>7</th>\n",
       "      <td>1418</td>\n",
       "      <td>Saving Private Ryan (1998)</td>\n",
       "      <td>Raiders of the Lost Ark (1981)</td>\n",
       "      <td>Star Wars: Episode IV - A New Hope (1977)</td>\n",
       "      <td>Princess Bride, The (1987)</td>\n",
       "      <td>Matrix, The (1999)</td>\n",
       "      <td>Toy Story 2 (1999)</td>\n",
       "      <td>Braveheart (1995)</td>\n",
       "      <td>Alien (1979)</td>\n",
       "      <td>Close Encounters of the Third Kind (1977)</td>\n",
       "      <td>Star Wars: Episode VI - Return of the Jedi (1983)</td>\n",
       "    </tr>\n",
       "    <tr>\n",
       "      <th>8</th>\n",
       "      <td>3000</td>\n",
       "      <td>American Beauty (1999)</td>\n",
       "      <td>Chinatown (1974)</td>\n",
       "      <td>Wizard of Oz, The (1939)</td>\n",
       "      <td>Matrix, The (1999)</td>\n",
       "      <td>Manchurian Candidate, The (1962)</td>\n",
       "      <td>Terminator 2: Judgment Day (1991)</td>\n",
       "      <td>Clockwork Orange, A (1971)</td>\n",
       "      <td>Aliens (1986)</td>\n",
       "      <td>Willy Wonka and the Chocolate Factory (1971)</td>\n",
       "      <td>Caddyshack (1980)</td>\n",
       "    </tr>\n",
       "    <tr>\n",
       "      <th>9</th>\n",
       "      <td>5001</td>\n",
       "      <td>Yojimbo (1961)</td>\n",
       "      <td>General, The (1927)</td>\n",
       "      <td>Star Wars: Episode IV - A New Hope (1977)</td>\n",
       "      <td>Rebecca (1940)</td>\n",
       "      <td>Wizard of Oz, The (1939)</td>\n",
       "      <td>Matrix, The (1999)</td>\n",
       "      <td>All About My Mother (Todo Sobre Mi Madre) (1999)</td>\n",
       "      <td>Witness (1985)</td>\n",
       "      <td>Forrest Gump (1994)</td>\n",
       "      <td>Gay Divorcee, The (1934)</td>\n",
       "    </tr>\n",
       "  </tbody>\n",
       "</table>\n",
       "</div>"
      ],
      "text/plain": [
       "   UserID                           Movie 1  \\\n",
       "0    1263           Grand Day Out, A (1992)   \n",
       "1     975           Sixth Sense, The (1999)   \n",
       "2    3929           Sixth Sense, The (1999)   \n",
       "3    1839        Usual Suspects, The (1995)   \n",
       "4    1499        Saving Private Ryan (1998)   \n",
       "5    3033             Godfather, The (1972)   \n",
       "6    2187  Shawshank Redemption, The (1994)   \n",
       "7    1418        Saving Private Ryan (1998)   \n",
       "8    3000            American Beauty (1999)   \n",
       "9    5001                    Yojimbo (1961)   \n",
       "\n",
       "                                      Movie 2  \\\n",
       "0  Life Is Beautiful (La Vita è bella) (1997)   \n",
       "1            Silence of the Lambs, The (1991)   \n",
       "2                  Saving Private Ryan (1998)   \n",
       "3                 Boat, The (Das Boot) (1981)   \n",
       "4                                Fargo (1996)   \n",
       "5                  Saving Private Ryan (1998)   \n",
       "6                  Usual Suspects, The (1995)   \n",
       "7              Raiders of the Lost Ark (1981)   \n",
       "8                            Chinatown (1974)   \n",
       "9                         General, The (1927)   \n",
       "\n",
       "                                     Movie 3                     Movie 4  \\\n",
       "0                          Sting, The (1973)   Young Frankenstein (1974)   \n",
       "1                 Princess Bride, The (1987)    Three Colors: Red (1994)   \n",
       "2                  American History X (1998)          Matrix, The (1999)   \n",
       "3                       Almost Famous (2000)        Fugitive, The (1993)   \n",
       "4          Terminator 2: Judgment Day (1991)               Hamlet (1996)   \n",
       "5  Star Wars: Episode IV - A New Hope (1977)  Princess Bride, The (1987)   \n",
       "6                    Sixth Sense, The (1999)  Saving Private Ryan (1998)   \n",
       "7  Star Wars: Episode IV - A New Hope (1977)  Princess Bride, The (1987)   \n",
       "8                   Wizard of Oz, The (1939)          Matrix, The (1999)   \n",
       "9  Star Wars: Episode IV - A New Hope (1977)              Rebecca (1940)   \n",
       "\n",
       "                            Movie 5  \\\n",
       "0                  Gladiator (2000)   \n",
       "1               Blade Runner (1982)   \n",
       "2       Boat, The (Das Boot) (1981)   \n",
       "3                 Braveheart (1995)   \n",
       "4             Twelve Monkeys (1995)   \n",
       "5               Blade Runner (1982)   \n",
       "6              Fugitive, The (1993)   \n",
       "7                Matrix, The (1999)   \n",
       "8  Manchurian Candidate, The (1962)   \n",
       "9          Wizard of Oz, The (1939)   \n",
       "\n",
       "                                             Movie 6  \\\n",
       "0                              Apocalypse Now (1979)   \n",
       "1                        Boat, The (Das Boot) (1981)   \n",
       "2                                     Amadeus (1984)   \n",
       "3                                   Apollo 13 (1995)   \n",
       "4                              Contender, The (2000)   \n",
       "5                                 Matrix, The (1999)   \n",
       "6  Star Wars: Episode V - The Empire Strikes Back...   \n",
       "7                                 Toy Story 2 (1999)   \n",
       "8                  Terminator 2: Judgment Day (1991)   \n",
       "9                                 Matrix, The (1999)   \n",
       "\n",
       "                                             Movie 7  \\\n",
       "0                                Pulp Fiction (1994)   \n",
       "1                     Godfather: Part II, The (1974)   \n",
       "2                                       Fargo (1996)   \n",
       "3                                   Airplane! (1980)   \n",
       "4                               Groundhog Day (1993)   \n",
       "5  Star Wars: Episode V - The Empire Strikes Back...   \n",
       "6                                  GoodFellas (1990)   \n",
       "7                                  Braveheart (1995)   \n",
       "8                         Clockwork Orange, A (1971)   \n",
       "9   All About My Mother (Todo Sobre Mi Madre) (1999)   \n",
       "\n",
       "                                             Movie 8  \\\n",
       "0          Butch Cassidy and the Sundance Kid (1969)   \n",
       "1                              Apocalypse Now (1979)   \n",
       "2  Star Wars: Episode V - The Empire Strikes Back...   \n",
       "3  Star Wars: Episode VI - Return of the Jedi (1983)   \n",
       "4                            Meet the Parents (2000)   \n",
       "5                    Ferris Bueller's Day Off (1986)   \n",
       "6                                  Braveheart (1995)   \n",
       "7                                       Alien (1979)   \n",
       "8                                      Aliens (1986)   \n",
       "9                                     Witness (1985)   \n",
       "\n",
       "                                        Movie 9  \\\n",
       "0                            Raging Bull (1980)   \n",
       "1                           Pulp Fiction (1994)   \n",
       "2              Run Lola Run (Lola rennt) (1998)   \n",
       "3                         Lion King, The (1994)   \n",
       "4                                  Titus (1999)   \n",
       "5                               Die Hard (1988)   \n",
       "6                         Reservoir Dogs (1992)   \n",
       "7     Close Encounters of the Third Kind (1977)   \n",
       "8  Willy Wonka and the Chocolate Factory (1971)   \n",
       "9                           Forrest Gump (1994)   \n",
       "\n",
       "                                            Movie 10  \n",
       "0                          This Is Spinal Tap (1984)  \n",
       "1                              Cool Hand Luke (1967)  \n",
       "2                                  GoodFellas (1990)  \n",
       "3                          Enemy of the State (1998)  \n",
       "4                                     Gattaca (1997)  \n",
       "5                           Last Emperor, The (1987)  \n",
       "6                                      Brazil (1985)  \n",
       "7  Star Wars: Episode VI - Return of the Jedi (1983)  \n",
       "8                                  Caddyshack (1980)  \n",
       "9                           Gay Divorcee, The (1934)  "
      ]
     },
     "execution_count": 55,
     "metadata": {},
     "output_type": "execute_result"
    }
   ],
   "source": [
    "import pandas as pd\n",
    "\n",
    "# Créer un dictionnaire MovieID -> Title\n",
    "movie_dict = pd.Series(movies['Title'].values, index=movies['MovieID']).to_dict()\n",
    "\n",
    "# Créer une liste pour stocker les recommandations sous forme de ligne par utilisateur\n",
    "recommandations_list = []\n",
    "\n",
    "# Limiter à 10 utilisateurs\n",
    "count = 0\n",
    "for uid, user_ratings in top_n.items():\n",
    "    # Extraire les titres des films recommandés\n",
    "    movie_titles = [movie_dict[iid] for (iid, _) in user_ratings]\n",
    "    \n",
    "    # Ajouter cette liste à notre liste de recommandations\n",
    "    recommandations_list.append([uid] + movie_titles)\n",
    "    \n",
    "    count += 1\n",
    "    if count == 10:  # Arrêter après 10 utilisateurs\n",
    "        break\n",
    "\n",
    "# Créer un DataFrame à partir de la liste de recommandations\n",
    "columns = ['UserID'] + [f'Movie {i+1}' for i in range(len(recommandations_list[0]) - 1)]\n",
    "recommandations_df = pd.DataFrame(recommandations_list, columns=columns)\n",
    "\n",
    "recommandations_df"
   ]
  }
 ],
 "metadata": {
  "kernelspec": {
   "display_name": "base",
   "language": "python",
   "name": "python3"
  },
  "language_info": {
   "codemirror_mode": {
    "name": "ipython",
    "version": 3
   },
   "file_extension": ".py",
   "mimetype": "text/x-python",
   "name": "python",
   "nbconvert_exporter": "python",
   "pygments_lexer": "ipython3",
   "version": "3.12.4"
  }
 },
 "nbformat": 4,
 "nbformat_minor": 5
}
